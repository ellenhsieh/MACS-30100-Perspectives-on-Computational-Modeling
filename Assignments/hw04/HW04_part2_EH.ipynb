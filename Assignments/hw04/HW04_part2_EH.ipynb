{
 "cells": [
  {
   "cell_type": "markdown",
   "metadata": {},
   "source": [
    "## Homework 04: Biden redux\n",
    "\n",
    "### MACS 30100 Perspectives on Computational Modeling, Dr. Soltoff\n",
    "\n",
    "Ellen Hsieh\n",
    "\n",
    "3 Feb 2019"
   ]
  },
  {
   "cell_type": "code",
   "execution_count": 1,
   "metadata": {},
   "outputs": [],
   "source": [
    "import numpy as np\n",
    "import pandas as pd\n",
    "import statsmodels.api as sm\n",
    "from sklearn.metrics import mean_squared_error\n",
    "from sklearn.linear_model import LinearRegression\n",
    "from sklearn.model_selection import train_test_split, LeaveOneOut, LeavePOut\n",
    "from sklearn.model_selection import RepeatedKFold, KFold, cross_val_score\n",
    "import matplotlib.pyplot as plt\n",
    "\n",
    "import warnings\n",
    "warnings.filterwarnings('ignore')"
   ]
  },
  {
   "cell_type": "markdown",
   "metadata": {},
   "source": [
    "#### 1."
   ]
  },
  {
   "cell_type": "code",
   "execution_count": 2,
   "metadata": {},
   "outputs": [],
   "source": [
    "nes = pd.read_csv('./data/nes2008.csv')\n",
    "\n",
    "biden = nes[['biden']].values\n",
    "preds = nes[['female', 'age', 'educ', 'dem', 'rep']].values"
   ]
  },
  {
   "cell_type": "code",
   "execution_count": 3,
   "metadata": {},
   "outputs": [],
   "source": [
    "# the function to calculate the MSE\n",
    "def cal_mse(x_train, x_test, y_train, y_test):\n",
    "    reg = LinearRegression().fit(x_train, y_train)\n",
    "    pred = reg.predict(x_test)\n",
    "    mse = mean_squared_error(y_test, pred)    \n",
    "    return mse"
   ]
  },
  {
   "cell_type": "code",
   "execution_count": 4,
   "metadata": {},
   "outputs": [
    {
     "name": "stdout",
     "output_type": "stream",
     "text": [
      "The MSE of the model using the traditional approach: 395.2701692786484\n"
     ]
    }
   ],
   "source": [
    "# using the traditional approach\n",
    "tra_mse = cal_mse(preds, preds, biden, biden)\n",
    "print('The MSE of the model using the traditional approach: {}'.format(tra_mse))"
   ]
  },
  {
   "cell_type": "markdown",
   "metadata": {},
   "source": [
    "#### 2."
   ]
  },
  {
   "cell_type": "code",
   "execution_count": 5,
   "metadata": {},
   "outputs": [
    {
     "name": "stdout",
     "output_type": "stream",
     "text": [
      "The MSE of the model using the validation set approach: 407.8565960011873\n"
     ]
    }
   ],
   "source": [
    "# using the validation set approach\n",
    "x_train, x_test, y_train, y_test = train_test_split(preds, biden, train_size=0.7, random_state=124)\n",
    "val_mse = cal_mse(x_train, x_test, y_train, y_test)\n",
    "print('The MSE of the model using the validation set approach: {}'.format(val_mse))"
   ]
  },
  {
   "cell_type": "markdown",
   "metadata": {},
   "source": [
    "The test MSE of the model using validation approach is higher than the traditional approach in this split."
   ]
  },
  {
   "cell_type": "markdown",
   "metadata": {},
   "source": [
    "#### 3."
   ]
  },
  {
   "cell_type": "code",
   "execution_count": 6,
   "metadata": {},
   "outputs": [],
   "source": [
    "# simulate 1000 time of the validation approach\n",
    "sim_val_mse = np.zeros(1000)\n",
    "for i in range(1000):\n",
    "    x_train, x_test, y_train, y_test = train_test_split(preds, biden, train_size=0.7)\n",
    "    val_mse = cal_mse(x_train, x_test, y_train, y_test)\n",
    "    sim_val_mse[i] = val_mse"
   ]
  },
  {
   "cell_type": "code",
   "execution_count": 7,
   "metadata": {},
   "outputs": [
    {
     "data": {
      "image/png": "[encoded data removed]",
      "text/plain": [
       "<Figure size 432x288 with 1 Axes>"
      ]
     },
     "metadata": {
      "needs_background": "light"
     },
     "output_type": "display_data"
    }
   ],
   "source": [
    "from itertools import groupby\n",
    "freq = {key:len(list(group)) for key, group in groupby(np.sort(sim_val_mse))}\n",
    "\n",
    "plt.hist(sim_val_mse, bins=30)\n",
    "plt.xlabel('Estimated test MSE')\n",
    "plt.ylabel('Frequncy count')\n",
    "plt.title('Distribution of estimated test MSE \\n(Validation approach)')\n",
    "plt.show()"
   ]
  },
  {
   "cell_type": "markdown",
   "metadata": {},
   "source": [
    "The test MSE varies depends on how the data is split into training and testing set."
   ]
  },
  {
   "cell_type": "markdown",
   "metadata": {},
   "source": [
    "#### 4."
   ]
  },
  {
   "cell_type": "code",
   "execution_count": 8,
   "metadata": {},
   "outputs": [],
   "source": [
    "# using LOOCV approach\n",
    "loo = LeaveOneOut()\n",
    "x_tr_lst = []\n",
    "x_te_lst = []\n",
    "y_tr_lst = []\n",
    "y_te_lst = []\n",
    "for train_index, test_index in loo.split(preds):\n",
    "    x_train, x_test = preds[train_index], preds[test_index]\n",
    "    y_train, y_test = biden[train_index], biden[test_index]\n",
    "    x_tr_lst.append(x_train)\n",
    "    x_te_lst.append(x_test)\n",
    "    y_tr_lst.append(y_train)\n",
    "    y_te_lst.append(y_test)"
   ]
  },
  {
   "cell_type": "code",
   "execution_count": 9,
   "metadata": {},
   "outputs": [],
   "source": [
    "loocv_mse = np.zeros(len(x_tr_lst))\n",
    "for i in range(len(x_tr_lst)):\n",
    "    mse = cal_mse(x_tr_lst[i], x_te_lst[i], y_tr_lst[i], y_te_lst[i])\n",
    "    loocv_mse[i] = mse"
   ]
  },
  {
   "cell_type": "code",
   "execution_count": 10,
   "metadata": {},
   "outputs": [
    {
     "data": {
      "image/png": "[encoded data removed]",
      "text/plain": [
       "<Figure size 432x288 with 1 Axes>"
      ]
     },
     "metadata": {
      "needs_background": "light"
     },
     "output_type": "display_data"
    }
   ],
   "source": [
    "freq = {key:len(list(group)) for key, group in groupby(np.sort(loocv_mse))}\n",
    "\n",
    "plt.hist(loocv_mse, bins=30)\n",
    "plt.xlabel('Estimated test MSE')\n",
    "plt.ylabel('Frequncy count')\n",
    "plt.title('Distribution of estimated test MSE \\n(LOOCV)')\n",
    "plt.show()"
   ]
  },
  {
   "cell_type": "code",
   "execution_count": 11,
   "metadata": {},
   "outputs": [
    {
     "name": "stdout",
     "output_type": "stream",
     "text": [
      "The mean of the test MSE of LOOCV: 397.9555045548882\n",
      "The standard deviation of the test MSE of LOOCV: 624.7769804543174\n"
     ]
    }
   ],
   "source": [
    "print('The mean of the test MSE of LOOCV: {}'.format(loocv_mse.mean()))\n",
    "print('The standard deviation of the test MSE of LOOCV: {}'.format(loocv_mse.std()))"
   ]
  },
  {
   "cell_type": "markdown",
   "metadata": {},
   "source": [
    "The test MSE varies widely in LOOCV, but it provides an unbaised estimate of the model MSE."
   ]
  },
  {
   "cell_type": "markdown",
   "metadata": {},
   "source": [
    "#### 5."
   ]
  },
  {
   "cell_type": "code",
   "execution_count": 12,
   "metadata": {},
   "outputs": [],
   "source": [
    "# using 10-fold CV approach\n",
    "kf = KFold(n_splits=10)\n",
    "x_tr_lst = []\n",
    "x_te_lst = []\n",
    "y_tr_lst = []\n",
    "y_te_lst = []\n",
    "\n",
    "for train_index, test_index in kf.split(preds):\n",
    "    x_train, x_test = preds[train_index], preds[test_index]\n",
    "    y_train, y_test = biden[train_index], biden[test_index]\n",
    "    x_tr_lst.append(x_train)\n",
    "    x_te_lst.append(x_test)\n",
    "    y_tr_lst.append(y_train)\n",
    "    y_te_lst.append(y_test)"
   ]
  },
  {
   "cell_type": "code",
   "execution_count": 13,
   "metadata": {},
   "outputs": [],
   "source": [
    "kf_mse = np.zeros(len(x_tr_lst))\n",
    "for i in range(len(x_tr_lst)):\n",
    "    mse = cal_mse(x_tr_lst[i], x_te_lst[i], y_tr_lst[i], y_te_lst[i])\n",
    "    kf_mse[i] = mse"
   ]
  },
  {
   "cell_type": "code",
   "execution_count": 14,
   "metadata": {},
   "outputs": [
    {
     "data": {
      "image/png": "[encoded data removed]",
      "text/plain": [
       "<Figure size 432x288 with 1 Axes>"
      ]
     },
     "metadata": {
      "needs_background": "light"
     },
     "output_type": "display_data"
    }
   ],
   "source": [
    "freq = {key:len(list(group)) for key, group in groupby(np.sort(kf_mse))}\n",
    "\n",
    "plt.hist(kf_mse)\n",
    "plt.xlabel('Estimated test MSE')\n",
    "plt.ylabel('Frequncy count')\n",
    "plt.title('Distribution of estimated test MSE \\n(10-fold CV)')\n",
    "plt.show()"
   ]
  },
  {
   "cell_type": "code",
   "execution_count": 15,
   "metadata": {},
   "outputs": [
    {
     "name": "stdout",
     "output_type": "stream",
     "text": [
      "The mean of the test MSE of 10-fold CV: 397.97984494721845\n",
      "The standard deviation of the test MSE of 10-fold CV: 37.73043590987476\n"
     ]
    }
   ],
   "source": [
    "print('The mean of the test MSE of 10-fold CV: {}'.format(kf_mse.mean()))\n",
    "print('The standard deviation of the test MSE of 10-fold CV: {}'.format(kf_mse.std()))"
   ]
  },
  {
   "cell_type": "markdown",
   "metadata": {},
   "source": [
    "The average of the test MSE of 10-fold CV is slightly higher than LOOCV approach."
   ]
  },
  {
   "cell_type": "markdown",
   "metadata": {},
   "source": [
    "#### 6. "
   ]
  },
  {
   "cell_type": "code",
   "execution_count": 16,
   "metadata": {},
   "outputs": [
    {
     "name": "stdout",
     "output_type": "stream",
     "text": [
      "                            OLS Regression Results                            \n",
      "==============================================================================\n",
      "Dep. Variable:                  biden   R-squared:                       0.282\n",
      "Model:                            OLS   Adj. R-squared:                  0.280\n",
      "Method:                 Least Squares   F-statistic:                     141.1\n",
      "Date:                Sat, 02 Feb 2019   Prob (F-statistic):          1.50e-126\n",
      "Time:                        15:09:51   Log-Likelihood:                -7966.6\n",
      "No. Observations:                1807   AIC:                         1.595e+04\n",
      "Df Residuals:                    1801   BIC:                         1.598e+04\n",
      "Df Model:                           5                                         \n",
      "Covariance Type:            nonrobust                                         \n",
      "==============================================================================\n",
      "                 coef    std err          t      P>|t|      [0.025      0.975]\n",
      "------------------------------------------------------------------------------\n",
      "const         58.8113      3.124     18.823      0.000      52.683      64.939\n",
      "female         4.1032      0.948      4.327      0.000       2.243       5.963\n",
      "age            0.0483      0.028      1.708      0.088      -0.007       0.104\n",
      "educ          -0.3453      0.195     -1.773      0.076      -0.727       0.037\n",
      "dem           15.4243      1.068     14.442      0.000      13.330      17.519\n",
      "rep          -15.8495      1.311    -12.086      0.000     -18.421     -13.278\n",
      "==============================================================================\n",
      "Omnibus:                       87.979   Durbin-Watson:                   1.996\n",
      "Prob(Omnibus):                  0.000   Jarque-Bera (JB):              101.940\n",
      "Skew:                          -0.533   Prob(JB):                     7.31e-23\n",
      "Kurtosis:                       3.466   Cond. No.                         348.\n",
      "==============================================================================\n",
      "\n",
      "Warnings:\n",
      "[1] Standard Errors assume that the covariance matrix of the errors is correctly specified.\n"
     ]
    }
   ],
   "source": [
    "result_tra = sm.OLS(nes['biden'], sm.add_constant(nes[['female', 'age', 'educ', 'dem', 'rep']])).fit()\n",
    "print(result_tra.summary())"
   ]
  },
  {
   "cell_type": "code",
   "execution_count": 17,
   "metadata": {},
   "outputs": [],
   "source": [
    "# fit the model using bootstrap samples\n",
    "from sklearn.utils import resample\n",
    "result_bs = []\n",
    "for i in range(1000):\n",
    "    sub_sample = resample(nes)\n",
    "    result_bs.append(sm.OLS(sub_sample['biden'], \n",
    "                         sm.add_constant(sub_sample[['female', 'age', 'educ', 'dem', 'rep']])).fit())"
   ]
  },
  {
   "cell_type": "code",
   "execution_count": 19,
   "metadata": {},
   "outputs": [],
   "source": [
    "# get the parameters from 1000 bootstrap\n",
    "param_const = np.zeros(1000)\n",
    "param_female = np.zeros(1000)\n",
    "param_age = np.zeros(1000)\n",
    "param_educ = np.zeros(1000)\n",
    "param_dem = np.zeros(1000)\n",
    "param_rep = np.zeros(1000)\n",
    "\n",
    "for i in range(len(result_bs)):\n",
    "    param_const[i] = result_bs[i].params[0]\n",
    "    param_female[i] = result_bs[i].params[1]\n",
    "    param_age[i] = result_bs[i].params[2]\n",
    "    param_educ[i] = result_bs[i].params[3]\n",
    "    param_dem[i] = result_bs[i].params[4]\n",
    "    param_rep[i] = result_bs[i].params[5]"
   ]
  },
  {
   "cell_type": "code",
   "execution_count": 20,
   "metadata": {},
   "outputs": [
    {
     "name": "stdout",
     "output_type": "stream",
     "text": [
      "\t\t\tTradiationl\t\t   Bootstrap(B=1000)\n",
      "\t\t---------------------------------------------------------\n",
      "\t\testimate\tstd err\t\testimate\tstd err\n",
      "--------------------------------------------------------------------------\n",
      "const\t\t58.811259\t3.124437\t58.685562\t3.025044\n",
      "female\t\t4.103230\t0.948229\t4.138560\t0.928018\n",
      "age\t\t0.048259\t0.028247\t0.047823\t0.028088\n",
      "educ\t\t-0.345335\t0.194780\t-0.334276\t0.187727\n",
      "dem\t\t15.424256\t1.068033\t15.405573\t1.081028\n",
      "rep\t\t-15.849506\t1.311362\t-15.881351\t1.391445\n",
      "--------------------------------------------------------------------------\n"
     ]
    }
   ],
   "source": [
    "# print the table of mean and SE using the bootstrap\n",
    "print(\"\\t\\t\\tTradiationl\\t\\t   Bootstrap(B=1000)\")\n",
    "print(\"\\t\\t---------------------------------------------------------\")\n",
    "print (\"\\t\\testimate\\tstd err\\t\\testimate\\tstd err\")\n",
    "print (\"--------------------------------------------------------------------------\")\n",
    "print (\"%s\\t\\t%f\\t%f\\t%f\\t%f\" % ('const', result_tra.params[0], result_tra.bse[0],\n",
    "                                 param_const.mean(), param_const.std()))\n",
    "print (\"%s\\t\\t%f\\t%f\\t%f\\t%f\" % ('female', result_tra.params[1], result_tra.bse[1], \n",
    "                                 param_female.mean(), param_female.std()))\n",
    "print (\"%s\\t\\t%f\\t%f\\t%f\\t%f\" % ('age', result_tra.params[2], result_tra.bse[2], \n",
    "                                 param_age.mean(), param_age.std()))\n",
    "print (\"%s\\t\\t%f\\t%f\\t%f\\t%f\" % ('educ', result_tra.params[3], result_tra.bse[3], \n",
    "                                 param_educ.mean(), param_educ.std()))\n",
    "print (\"%s\\t\\t%f\\t%f\\t%f\\t%f\" % ('dem', result_tra.params[4], result_tra.bse[4], param_dem.mean(), param_dem.std()))\n",
    "print (\"%s\\t\\t%f\\t%f\\t%f\\t%f\" % ('rep', result_tra.params[5], result_tra.bse[5], param_rep.mean(), param_rep.std()))\n",
    "print (\"--------------------------------------------------------------------------\")"
   ]
  }
 ],
 "metadata": {
  "kernelspec": {
   "display_name": "Python 3",
   "language": "python",
   "name": "python3"
  },
  "language_info": {
   "codemirror_mode": {
    "name": "ipython",
    "version": 3
   },
   "file_extension": ".py",
   "mimetype": "text/x-python",
   "name": "python",
   "nbconvert_exporter": "python",
   "pygments_lexer": "ipython3",
   "version": "3.6.8"
  }
 },
 "nbformat": 4,
 "nbformat_minor": 2
}
