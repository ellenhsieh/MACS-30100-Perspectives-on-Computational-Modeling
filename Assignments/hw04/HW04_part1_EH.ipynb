{
 "cells": [
  {
   "cell_type": "markdown",
   "metadata": {},
   "source": [
    "## Homework 04: Conceptual exercises\n",
    "\n",
    "### MACS 30100 Perspectives on Computational Modeling, Dr. Soltoff\n",
    "\n",
    "Ellen Hsieh\n",
    "\n",
    "3 Feb 2019"
   ]
  },
  {
   "cell_type": "code",
   "execution_count": 1,
   "metadata": {},
   "outputs": [],
   "source": [
    "import numpy as np\n",
    "import pandas as pd\n",
    "import seaborn as sns\n",
    "import matplotlib.pyplot as plt\n",
    "import statsmodels.api as sm\n",
    "from sklearn.metrics import mean_squared_error\n",
    "from sklearn.linear_model import LinearRegression\n",
    "from sklearn.model_selection import RepeatedKFold, KFold\n",
    "\n",
    "%matplotlib inline"
   ]
  },
  {
   "cell_type": "markdown",
   "metadata": {},
   "source": [
    "#### a."
   ]
  },
  {
   "cell_type": "code",
   "execution_count": 2,
   "metadata": {},
   "outputs": [],
   "source": [
    "# import the data file\n",
    "nes = pd.read_csv('./data/nes2008.csv')\n",
    "\n",
    "biden = nes[['biden']].values\n",
    "preds = nes[['female', 'age', 'educ', 'dem', 'rep']].values"
   ]
  },
  {
   "cell_type": "code",
   "execution_count": 3,
   "metadata": {},
   "outputs": [],
   "source": [
    "# function to calculate MSE\n",
    "def cal_mse(x_train, x_test, y_train, y_test):\n",
    "    reg = LinearRegression().fit(x_train, y_train)\n",
    "    pred = reg.predict(x_test)\n",
    "    mse = mean_squared_error(y_test, pred)    \n",
    "    return mse"
   ]
  },
  {
   "cell_type": "markdown",
   "metadata": {},
   "source": [
    "#### b."
   ]
  },
  {
   "cell_type": "code",
   "execution_count": 4,
   "metadata": {},
   "outputs": [],
   "source": [
    "# simulate 100-fold CV for 100 times\n",
    "mse_100_cv = np.zeros(100)\n",
    "for i in range(100):\n",
    "    \n",
    "    kf = KFold(n_splits=100, shuffle=True)\n",
    "    x_tr_lst = []\n",
    "    x_te_lst = []\n",
    "    y_tr_lst = []\n",
    "    y_te_lst = []\n",
    "\n",
    "    for train_index, test_index in kf.split(preds):\n",
    "        x_train, x_test = preds[train_index], preds[test_index]\n",
    "        y_train, y_test = biden[train_index], biden[test_index]\n",
    "        x_tr_lst.append(x_train)\n",
    "        x_te_lst.append(x_test)\n",
    "        y_tr_lst.append(y_train)\n",
    "        y_te_lst.append(y_test)\n",
    "        \n",
    "    mse_once = np.zeros(len(x_tr_lst))\n",
    "    for j in range(len(x_tr_lst)):\n",
    "        mse = cal_mse(x_tr_lst[j], x_te_lst[j], y_tr_lst[j], y_te_lst[j])\n",
    "        mse_once[j] = mse\n",
    "    mse_100_cv[i] = mse_once.mean()        "
   ]
  },
  {
   "cell_type": "markdown",
   "metadata": {},
   "source": [
    "#### c."
   ]
  },
  {
   "cell_type": "code",
   "execution_count": 5,
   "metadata": {},
   "outputs": [
    {
     "name": "stdout",
     "output_type": "stream",
     "text": [
      "\n",
      "100-fold CV repeated 100 times\n",
      "\n",
      "mean: 397.9923568004545\n",
      "std: 0.26837604944987603\n",
      "\n"
     ]
    }
   ],
   "source": [
    "# mean and std for 100-fold CV\n",
    "print('''\n",
    "100-fold CV repeated 100 times\n",
    "\n",
    "mean: {}\n",
    "std: {}\n",
    "'''.format(mse_100_cv.mean(), mse_100_cv.std()))"
   ]
  },
  {
   "cell_type": "code",
   "execution_count": 6,
   "metadata": {},
   "outputs": [
    {
     "data": {
      "image/png": "[encoded data removed]",
      "text/plain": [
       "<Figure size 432x288 with 1 Axes>"
      ]
     },
     "metadata": {
      "needs_background": "light"
     },
     "output_type": "display_data"
    }
   ],
   "source": [
    "# plot the distribution of test MSE\n",
    "from itertools import groupby\n",
    "freq = {key:len(list(group)) for key, group in groupby(np.sort(mse_100_cv))}\n",
    "\n",
    "plt.hist(mse_100_cv, bins=30)\n",
    "plt.xlabel('Estimated test MSE')\n",
    "plt.ylabel('Frequncy count')\n",
    "plt.title('Distribution of estimated test MSE \\n(100-fold CV)')\n",
    "plt.show()"
   ]
  },
  {
   "cell_type": "markdown",
   "metadata": {},
   "source": [
    "#### d."
   ]
  },
  {
   "cell_type": "code",
   "execution_count": 7,
   "metadata": {},
   "outputs": [],
   "source": [
    "# simulate 10-fold CV repeated 10 times for 100 times\n",
    "mse_10_10_cv = np.zeros(100)\n",
    "\n",
    "for i in range(100):\n",
    "    \n",
    "    rkf = RepeatedKFold(n_splits=10, n_repeats=10, random_state=124 + i)\n",
    "    x_tr_lst = []\n",
    "    x_te_lst = []\n",
    "    y_tr_lst = []\n",
    "    y_te_lst = []\n",
    "\n",
    "    for train_index, test_index in rkf.split(preds):\n",
    "        x_train, x_test = preds[train_index], preds[test_index]\n",
    "        y_train, y_test = biden[train_index], biden[test_index]\n",
    "        x_tr_lst.append(x_train)\n",
    "        x_te_lst.append(x_test)\n",
    "        y_tr_lst.append(y_train)\n",
    "        y_te_lst.append(y_test)\n",
    "        \n",
    "    mse_once = np.zeros(len(x_tr_lst))\n",
    "    for j in range(len(x_tr_lst)):\n",
    "        mse = cal_mse(x_tr_lst[j], x_te_lst[j], y_tr_lst[j], y_te_lst[j])\n",
    "        mse_once[j] = mse\n",
    "    mse_10_10_cv[i] = mse_once.mean()        "
   ]
  },
  {
   "cell_type": "markdown",
   "metadata": {},
   "source": [
    "#### e."
   ]
  },
  {
   "cell_type": "code",
   "execution_count": 8,
   "metadata": {},
   "outputs": [
    {
     "name": "stdout",
     "output_type": "stream",
     "text": [
      "\n",
      "10-fold CV, repeated 10 times, for 100 times\n",
      "\n",
      "mean: 398.10026515353877\n",
      "std: 0.16709282719970614\n",
      "\n"
     ]
    }
   ],
   "source": [
    "# mean and std for 10-fold CV, repeated 10 times\n",
    "print('''\n",
    "10-fold CV, repeated 10 times, for 100 times\n",
    "\n",
    "mean: {}\n",
    "std: {}\n",
    "'''.format(mse_10_10_cv.mean(), mse_10_10_cv.std()))"
   ]
  },
  {
   "cell_type": "code",
   "execution_count": 9,
   "metadata": {},
   "outputs": [
    {
     "data": {
      "image/png": "[encoded data removed]",
      "text/plain": [
       "<Figure size 432x288 with 1 Axes>"
      ]
     },
     "metadata": {
      "needs_background": "light"
     },
     "output_type": "display_data"
    }
   ],
   "source": [
    "# plot the distribution of test MSE\n",
    "freq = {key:len(list(group)) for key, group in groupby(np.sort(mse_10_10_cv))}\n",
    "\n",
    "plt.hist(mse_10_10_cv, bins=30)\n",
    "plt.xlabel('Estimated test MSE')\n",
    "plt.ylabel('Frequncy count')\n",
    "plt.title('Distribution of estimated test MSE \\n(repeated 10 times 10-fold CV)')\n",
    "plt.show()"
   ]
  },
  {
   "cell_type": "markdown",
   "metadata": {},
   "source": [
    "#### f."
   ]
  },
  {
   "cell_type": "code",
   "execution_count": 10,
   "metadata": {},
   "outputs": [
    {
     "data": {
      "text/plain": [
       "<matplotlib.legend.Legend at 0x1c1c5db278>"
      ]
     },
     "execution_count": 10,
     "metadata": {},
     "output_type": "execute_result"
    },
    {
     "data": {
      "image/png": "[encoded data removed]",
      "text/plain": [
       "<Figure size 432x288 with 1 Axes>"
      ]
     },
     "metadata": {
      "needs_background": "light"
     },
     "output_type": "display_data"
    }
   ],
   "source": [
    "# plot the distribution of two different CV\n",
    "p1 = sns.kdeplot(mse_10_10_cv, shade=False, color=\"r\", label='repeated 10 times 10-fold CV')\n",
    "p1 = sns.kdeplot(mse_100_cv, shade=False, color=\"b\", label='100-fold CV')\n",
    "plt.axvline(np.mean(mse_10_10_cv) ,color='r', linestyle='--')\n",
    "plt.axvline(np.mean(mse_100_cv) ,color='b', linestyle='--')\n",
    "plt.xlabel('Distribution of estimated test MSE')\n",
    "plt.ylabel('Density')\n",
    "plt.legend()"
   ]
  },
  {
   "cell_type": "markdown",
   "metadata": {},
   "source": [
    "Both methods produce similar estimated MSE. However, repeated N times K-fold cross validation tends to have a smaller variance than K$\\times$N-fold cross validation. "
   ]
  }
 ],
 "metadata": {
  "kernelspec": {
   "display_name": "Python 3",
   "language": "python",
   "name": "python3"
  },
  "language_info": {
   "codemirror_mode": {
    "name": "ipython",
    "version": 3
   },
   "file_extension": ".py",
   "mimetype": "text/x-python",
   "name": "python",
   "nbconvert_exporter": "python",
   "pygments_lexer": "ipython3",
   "version": "3.6.8"
  }
 },
 "nbformat": 4,
 "nbformat_minor": 2
}
