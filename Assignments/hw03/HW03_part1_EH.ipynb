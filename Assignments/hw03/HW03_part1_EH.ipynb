{
 "cells": [
  {
   "cell_type": "markdown",
   "metadata": {},
   "source": [
    "## Homework03: Conceptual exercises\n",
    "\n",
    "### MACS 30100 Perspectives on Computational Modeling, Dr. Soltoff\n",
    "\n",
    "Ellen Hsieh\n",
    "\n",
    "26 Jan 2019"
   ]
  },
  {
   "cell_type": "markdown",
   "metadata": {},
   "source": [
    "### Differences between LDA and QDA"
   ]
  },
  {
   "cell_type": "code",
   "execution_count": 1,
   "metadata": {},
   "outputs": [],
   "source": [
    "import numpy as np\n",
    "import pandas as pd\n",
    "from sklearn.model_selection import train_test_split\n",
    "import matplotlib.pyplot as plt\n",
    "from sklearn.discriminant_analysis import LinearDiscriminantAnalysis, QuadraticDiscriminantAnalysis\n",
    "import seaborn as sns\n",
    "\n",
    "%matplotlib inline"
   ]
  },
  {
   "cell_type": "markdown",
   "metadata": {},
   "source": [
    "#### 1."
   ]
  },
  {
   "cell_type": "code",
   "execution_count": 2,
   "metadata": {},
   "outputs": [],
   "source": [
    "np.random.seed(124)\n",
    "\n",
    "# linear Bayes decision boundary\n",
    "def linear_boundary(x1, x2):\n",
    "    return x1 + x2"
   ]
  },
  {
   "cell_type": "code",
   "execution_count": 3,
   "metadata": {},
   "outputs": [],
   "source": [
    "def simulation(sim_function, n):\n",
    "    x1 = np.random.uniform(-1, 1, n).reshape((n, 1))\n",
    "    x2 = np.random.uniform(-1, 1, n).reshape((n, 1))\n",
    "    xs = np.concatenate((x1, x2), axis=1)\n",
    "    sim_y = sim_function(x1, x2) + np.random.normal(0, 1, n).reshape((n,1))\n",
    "    group = np.array([True if x >= 0 else False for x in sim_y])\n",
    "    \n",
    "    # Randomly split the dataset into 70/30% training/test sets.\n",
    "    x_train, x_test, y_train, y_test = train_test_split(xs, group, test_size=0.3)\n",
    "    \n",
    "    # LDA model\n",
    "    lda = LinearDiscriminantAnalysis()\n",
    "    model_lda = lda.fit(x_train, y_train)\n",
    "    # training/testing error for LDA\n",
    "    te_err_lda = 1 - model_lda.score(x_test, y_test)\n",
    "    tr_err_lda = 1 - model_lda.score(x_train, y_train)\n",
    "    \n",
    "    # QDA model\n",
    "    qda = QuadraticDiscriminantAnalysis()\n",
    "    model_qda = qda.fit(x_train, y_train)\n",
    "    # training/testing error for QDA\n",
    "    te_err_qda = 1 - model_qda.score(x_test, y_test)\n",
    "    tr_err_qda = 1 - model_qda.score(x_train, y_train)\n",
    "    \n",
    "    return te_err_lda, tr_err_lda, te_err_qda, tr_err_qda"
   ]
  },
  {
   "cell_type": "code",
   "execution_count": 4,
   "metadata": {},
   "outputs": [],
   "source": [
    "# calculating all the models training/testing error for 1000 simulations\n",
    "te_errs_lda = np.zeros(1000)\n",
    "tr_errs_lda = np.zeros(1000)\n",
    "te_errs_qda = np.zeros(1000)\n",
    "tr_errs_qda = np.zeros(1000)\n",
    "\n",
    "for i in range(1000):\n",
    "    te_err_lda, tr_err_lda, te_err_qda, tr_err_qda = simulation(linear_boundary, 1000)\n",
    "    te_errs_lda[i] = te_err_lda\n",
    "    tr_errs_lda[i] = tr_err_lda\n",
    "    te_errs_qda[i] = te_err_qda\n",
    "    tr_errs_qda[i] = tr_err_qda"
   ]
  },
  {
   "cell_type": "code",
   "execution_count": 5,
   "metadata": {},
   "outputs": [],
   "source": [
    "# create a df to keep all the training/testing errors\n",
    "df = pd.DataFrame({'LDA: train':tr_errs_lda,\n",
    "                   'LDA: test':te_errs_lda,\n",
    "                   'QDA: train':tr_errs_qda,\n",
    "                   'QDA: test':te_errs_qda                   \n",
    "                   })"
   ]
  },
  {
   "cell_type": "code",
   "execution_count": 6,
   "metadata": {},
   "outputs": [
    {
     "data": {
      "text/plain": [
       "<matplotlib.axes._subplots.AxesSubplot at 0x1a205f46d8>"
      ]
     },
     "execution_count": 6,
     "metadata": {},
     "output_type": "execute_result"
    },
    {
     "data": {
      "image/png": "[encoded data removed]",
      "text/plain": [
       "<Figure size 432x288 with 1 Axes>"
      ]
     },
     "metadata": {
      "needs_background": "light"
     },
     "output_type": "display_data"
    }
   ],
   "source": [
    "# plot distribution of error rate\n",
    "sns.boxplot(data=df)"
   ]
  },
  {
   "cell_type": "code",
   "execution_count": 7,
   "metadata": {},
   "outputs": [
    {
     "data": {
      "text/html": [
       "<div>\n",
       "<style scoped>\n",
       "    .dataframe tbody tr th:only-of-type {\n",
       "        vertical-align: middle;\n",
       "    }\n",
       "\n",
       "    .dataframe tbody tr th {\n",
       "        vertical-align: top;\n",
       "    }\n",
       "\n",
       "    .dataframe thead th {\n",
       "        text-align: right;\n",
       "    }\n",
       "</style>\n",
       "<table border=\"1\" class=\"dataframe\">\n",
       "  <thead>\n",
       "    <tr style=\"text-align: right;\">\n",
       "      <th></th>\n",
       "      <th>LDA: train</th>\n",
       "      <th>LDA: test</th>\n",
       "      <th>QDA: train</th>\n",
       "      <th>QDA: test</th>\n",
       "    </tr>\n",
       "  </thead>\n",
       "  <tbody>\n",
       "    <tr>\n",
       "      <th>mean</th>\n",
       "      <td>0.274113</td>\n",
       "      <td>0.275087</td>\n",
       "      <td>0.273179</td>\n",
       "      <td>0.275317</td>\n",
       "    </tr>\n",
       "  </tbody>\n",
       "</table>\n",
       "</div>"
      ],
      "text/plain": [
       "      LDA: train  LDA: test  QDA: train  QDA: test\n",
       "mean    0.274113   0.275087    0.273179   0.275317"
      ]
     },
     "execution_count": 7,
     "metadata": {},
     "output_type": "execute_result"
    }
   ],
   "source": [
    "# simulations’ error rates\n",
    "df.describe().loc[['mean']]"
   ]
  },
  {
   "cell_type": "markdown",
   "metadata": {},
   "source": [
    "When the Bayes decision boundary is linear, LDA should perform better than QDA on the testing data. However, for training data, QDA might be able to perform better if the model is overfitted."
   ]
  },
  {
   "cell_type": "markdown",
   "metadata": {},
   "source": [
    "#### 2."
   ]
  },
  {
   "cell_type": "code",
   "execution_count": 8,
   "metadata": {},
   "outputs": [],
   "source": [
    "# non-linear Bayes decision boundary\n",
    "def nonlinear_boundary(x1, x2):\n",
    "    return x1 + x1**2 + x2 + x2**2"
   ]
  },
  {
   "cell_type": "code",
   "execution_count": 9,
   "metadata": {},
   "outputs": [],
   "source": [
    "# calculating all the models training/testing error for 1000 simulations\n",
    "te_errs_lda = np.zeros(1000)\n",
    "tr_errs_lda = np.zeros(1000)\n",
    "te_errs_qda = np.zeros(1000)\n",
    "tr_errs_qda = np.zeros(1000)\n",
    "\n",
    "for i in range(1000):\n",
    "    te_err_lda, tr_err_lda, te_err_qda, tr_err_qda = simulation(nonlinear_boundary, 1000)\n",
    "    te_errs_lda[i] = te_err_lda\n",
    "    tr_errs_lda[i] = tr_err_lda\n",
    "    te_errs_qda[i] = te_err_qda\n",
    "    tr_errs_qda[i] = tr_err_qda"
   ]
  },
  {
   "cell_type": "code",
   "execution_count": 10,
   "metadata": {},
   "outputs": [],
   "source": [
    "# create a df to keep all the training/testing errors\n",
    "df = pd.DataFrame({'LDA: train':tr_errs_lda,\n",
    "                   'LDA: test':te_errs_lda,\n",
    "                   'QDA: train':tr_errs_qda,\n",
    "                   'QDA: test':te_errs_qda                   \n",
    "                   })"
   ]
  },
  {
   "cell_type": "code",
   "execution_count": 11,
   "metadata": {},
   "outputs": [
    {
     "data": {
      "text/plain": [
       "<matplotlib.axes._subplots.AxesSubplot at 0x1a208f8710>"
      ]
     },
     "execution_count": 11,
     "metadata": {},
     "output_type": "execute_result"
    },
    {
     "data": {
      "image/png": "[encoded data removed]",
      "text/plain": [
       "<Figure size 432x288 with 1 Axes>"
      ]
     },
     "metadata": {
      "needs_background": "light"
     },
     "output_type": "display_data"
    }
   ],
   "source": [
    "# plot distribution of error rate\n",
    "sns.boxplot(data=df)"
   ]
  },
  {
   "cell_type": "code",
   "execution_count": 12,
   "metadata": {},
   "outputs": [
    {
     "data": {
      "text/html": [
       "<div>\n",
       "<style scoped>\n",
       "    .dataframe tbody tr th:only-of-type {\n",
       "        vertical-align: middle;\n",
       "    }\n",
       "\n",
       "    .dataframe tbody tr th {\n",
       "        vertical-align: top;\n",
       "    }\n",
       "\n",
       "    .dataframe thead th {\n",
       "        text-align: right;\n",
       "    }\n",
       "</style>\n",
       "<table border=\"1\" class=\"dataframe\">\n",
       "  <thead>\n",
       "    <tr style=\"text-align: right;\">\n",
       "      <th></th>\n",
       "      <th>LDA: train</th>\n",
       "      <th>LDA: test</th>\n",
       "      <th>QDA: train</th>\n",
       "      <th>QDA: test</th>\n",
       "    </tr>\n",
       "  </thead>\n",
       "  <tbody>\n",
       "    <tr>\n",
       "      <th>mean</th>\n",
       "      <td>0.272946</td>\n",
       "      <td>0.276287</td>\n",
       "      <td>0.259147</td>\n",
       "      <td>0.2624</td>\n",
       "    </tr>\n",
       "  </tbody>\n",
       "</table>\n",
       "</div>"
      ],
      "text/plain": [
       "      LDA: train  LDA: test  QDA: train  QDA: test\n",
       "mean    0.272946   0.276287    0.259147     0.2624"
      ]
     },
     "execution_count": 12,
     "metadata": {},
     "output_type": "execute_result"
    }
   ],
   "source": [
    "# simulations’ error rates\n",
    "df.describe().loc[['mean']]"
   ]
  },
  {
   "cell_type": "markdown",
   "metadata": {},
   "source": [
    "When the Bayes decision boundary is non-linear, QDA would likely perform better than LDA on both training and testing dataset."
   ]
  },
  {
   "cell_type": "markdown",
   "metadata": {},
   "source": [
    "#### 3."
   ]
  },
  {
   "cell_type": "code",
   "execution_count": 13,
   "metadata": {},
   "outputs": [],
   "source": [
    "# simulating 1000 times for N = [100, 1000, 10000, 100000]\n",
    "N = [100, 1000, 10000, 100000]\n",
    "lda_err = np.zeros(len(N))\n",
    "qda_err = np.zeros(len(N))\n",
    "for i in range(len(N)):\n",
    "    te_errs_lda = np.zeros(1000)\n",
    "    te_errs_qda = np.zeros(1000)\n",
    "    \n",
    "    for j in range(1000):\n",
    "        te_err_lda, tr_err_lda, te_err_qda, tr_err_qda = simulation(nonlinear_boundary, N[i])\n",
    "        te_errs_lda[j] = te_err_lda\n",
    "        te_errs_qda[j] = te_err_qda\n",
    "        \n",
    "    lda_err[i] = te_errs_lda.mean()\n",
    "    qda_err[i] = te_errs_qda.mean() "
   ]
  },
  {
   "cell_type": "code",
   "execution_count": 15,
   "metadata": {},
   "outputs": [
    {
     "data": {
      "text/plain": [
       "Text(0.5, 1.0, \"LDA&QDA's performance as n increases\")"
      ]
     },
     "execution_count": 15,
     "metadata": {},
     "output_type": "execute_result"
    },
    {
     "data": {
      "image/png": "[encoded data removed]",
      "text/plain": [
       "<Figure size 432x288 with 1 Axes>"
      ]
     },
     "metadata": {
      "needs_background": "light"
     },
     "output_type": "display_data"
    }
   ],
   "source": [
    "# plot the performance of LDA&QDA as n increases\n",
    "plt.plot([1,2,3,4], lda_err, label='LDA')\n",
    "plt.plot([1,2,3,4], qda_err, label='QDA')\n",
    "plt.legend()\n",
    "plt.xticks([1,2,3,4], ['100', '1000', '10000', '100000'])\n",
    "plt.xlabel('Number of observations')\n",
    "plt.ylabel('Mean of test error rate')\n",
    "plt.title('LDA&QDA\\'s performance as n increases')"
   ]
  },
  {
   "cell_type": "markdown",
   "metadata": {},
   "source": [
    "As the sample size n increases, the test error rate of QDA seems to improve more than LDA. In addition, QDA always performs better than LDA when the Bayes decision boundary is non-linear."
   ]
  },
  {
   "cell_type": "markdown",
   "metadata": {},
   "source": [
    "#### 4."
   ]
  },
  {
   "cell_type": "markdown",
   "metadata": {},
   "source": [
    "False, when the given Bayes decision boundary is linear, QDA might perforam better on the training dataset but not on the testing dataset. "
   ]
  }
 ],
 "metadata": {
  "kernelspec": {
   "display_name": "Python 3",
   "language": "python",
   "name": "python3"
  },
  "language_info": {
   "codemirror_mode": {
    "name": "ipython",
    "version": 3
   },
   "file_extension": ".py",
   "mimetype": "text/x-python",
   "name": "python",
   "nbconvert_exporter": "python",
   "pygments_lexer": "ipython3",
   "version": "3.6.8"
  }
 },
 "nbformat": 4,
 "nbformat_minor": 2
}
