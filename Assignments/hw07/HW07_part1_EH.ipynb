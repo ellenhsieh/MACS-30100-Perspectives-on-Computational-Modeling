{
 "cells": [
  {
   "cell_type": "markdown",
   "metadata": {},
   "source": [
    "## Homework 07: Conceptual exercises\n",
    "\n",
    "### MACS 30100 Perspectives on Computational Modeling, Dr. Soltoff\n",
    "\n",
    "Ellen Hsieh\n",
    "\n",
    "25 Feb 2019"
   ]
  },
  {
   "cell_type": "code",
   "execution_count": 1,
   "metadata": {},
   "outputs": [],
   "source": [
    "import random\n",
    "import pandas as pd\n",
    "import numpy as np\n",
    "import statsmodels.api as sm\n",
    "import matplotlib.pyplot as plt\n",
    "from sklearn.metrics import mean_squared_error as mse"
   ]
  },
  {
   "cell_type": "markdown",
   "metadata": {},
   "source": [
    "### Backfitting approach for GAMs"
   ]
  },
  {
   "cell_type": "markdown",
   "metadata": {},
   "source": [
    "#### a."
   ]
  },
  {
   "cell_type": "code",
   "execution_count": 2,
   "metadata": {},
   "outputs": [],
   "source": [
    "np.random.seed(124)\n",
    "\n",
    "# generate the data for toy example with p=2, n=100\n",
    "x1 = np.random.normal(0, 1, 100)\n",
    "x2 = np.random.normal(0, 1, 100)\n",
    "beta0 = 4\n",
    "beta1 = 3.3\n",
    "beta2 = 2.75\n",
    "epsilon = np.random.normal(0, 1, 100)\n",
    "\n",
    "Y = beta0 + beta1 * x1 + beta2 * x2 + epsilon"
   ]
  },
  {
   "cell_type": "markdown",
   "metadata": {},
   "source": [
    "#### b - c."
   ]
  },
  {
   "cell_type": "code",
   "execution_count": 3,
   "metadata": {},
   "outputs": [
    {
     "name": "stdout",
     "output_type": "stream",
     "text": [
      "                            OLS Regression Results                            \n",
      "==============================================================================\n",
      "Dep. Variable:                      y   R-squared:                       0.647\n",
      "Model:                            OLS   Adj. R-squared:                  0.644\n",
      "Method:                 Least Squares   F-statistic:                     179.9\n",
      "Date:                Sun, 24 Feb 2019   Prob (F-statistic):           6.57e-24\n",
      "Time:                        22:47:21   Log-Likelihood:                -197.41\n",
      "No. Observations:                 100   AIC:                             398.8\n",
      "Df Residuals:                      98   BIC:                             404.0\n",
      "Df Model:                           1                                         \n",
      "Covariance Type:            nonrobust                                         \n",
      "==============================================================================\n",
      "                 coef    std err          t      P>|t|      [0.025      0.975]\n",
      "------------------------------------------------------------------------------\n",
      "const          4.2399      0.176     24.091      0.000       3.891       4.589\n",
      "x2             2.5200      0.188     13.412      0.000       2.147       2.893\n",
      "==============================================================================\n",
      "Omnibus:                        0.816   Durbin-Watson:                   2.213\n",
      "Prob(Omnibus):                  0.665   Jarque-Bera (JB):                0.933\n",
      "Skew:                          -0.159   Prob(JB):                        0.627\n",
      "Kurtosis:                       2.651   Cond. No.                         1.07\n",
      "==============================================================================\n",
      "\n",
      "Warnings:\n",
      "[1] Standard Errors assume that the covariance matrix of the errors is correctly specified.\n"
     ]
    }
   ],
   "source": [
    "# initialize beta hat 1\n",
    "bhat_1 = 2\n",
    "\n",
    "# fit the model keeping beta hat 1 fixed\n",
    "a = Y - bhat_1 * x1\n",
    "model1 = sm.OLS(a, sm.add_constant(x2)).fit()\n",
    "print(model1.summary(xname=['const', 'x2']))"
   ]
  },
  {
   "cell_type": "markdown",
   "metadata": {},
   "source": [
    "#### d."
   ]
  },
  {
   "cell_type": "code",
   "execution_count": 4,
   "metadata": {},
   "outputs": [
    {
     "name": "stdout",
     "output_type": "stream",
     "text": [
      "                            OLS Regression Results                            \n",
      "==============================================================================\n",
      "Dep. Variable:                      y   R-squared:                       0.914\n",
      "Model:                            OLS   Adj. R-squared:                  0.913\n",
      "Method:                 Least Squares   F-statistic:                     1040.\n",
      "Date:                Sun, 24 Feb 2019   Prob (F-statistic):           5.63e-54\n",
      "Time:                        22:47:24   Log-Likelihood:                -145.21\n",
      "No. Observations:                 100   AIC:                             294.4\n",
      "Df Residuals:                      98   BIC:                             299.6\n",
      "Df Model:                           1                                         \n",
      "Covariance Type:            nonrobust                                         \n",
      "==============================================================================\n",
      "                 coef    std err          t      P>|t|      [0.025      0.975]\n",
      "------------------------------------------------------------------------------\n",
      "const          4.0741      0.105     38.747      0.000       3.865       4.283\n",
      "x1             3.4278      0.106     32.243      0.000       3.217       3.639\n",
      "==============================================================================\n",
      "Omnibus:                        2.222   Durbin-Watson:                   1.938\n",
      "Prob(Omnibus):                  0.329   Jarque-Bera (JB):                1.529\n",
      "Skew:                          -0.017   Prob(JB):                        0.465\n",
      "Kurtosis:                       2.395   Cond. No.                         1.13\n",
      "==============================================================================\n",
      "\n",
      "Warnings:\n",
      "[1] Standard Errors assume that the covariance matrix of the errors is correctly specified.\n"
     ]
    }
   ],
   "source": [
    "# fit the model keeping beta hat 2 fixed\n",
    "bhat_2 = model1.params[1]\n",
    "b = Y - bhat_2 * x2 \n",
    "model2 = sm.OLS(b, sm.add_constant(x1)).fit()\n",
    "print(model2.summary())"
   ]
  },
  {
   "cell_type": "markdown",
   "metadata": {},
   "source": [
    "#### e."
   ]
  },
  {
   "cell_type": "code",
   "execution_count": 5,
   "metadata": {},
   "outputs": [],
   "source": [
    "# repeat (c) and (d) for 1000 times\n",
    "bhat_0 = np.zeros(1000)\n",
    "bhat_1 = np.zeros(1001)\n",
    "bhat_2 = np.zeros(1000)\n",
    "bhat_1[0] = 2\n",
    "\n",
    "for i in range(1000):\n",
    "    a = Y - bhat_1[i] * x1\n",
    "    bhat_2[i] = sm.OLS(a, sm.add_constant(x2)).fit().params[1]\n",
    "    \n",
    "    b = Y - bhat_2[i] * x2 \n",
    "    bhat_0[i] = sm.OLS(b, sm.add_constant(x1)).fit().params[0]\n",
    "    bhat_1[i+1] = sm.OLS(b, sm.add_constant(x1)).fit().params[1]    "
   ]
  },
  {
   "cell_type": "code",
   "execution_count": 6,
   "metadata": {},
   "outputs": [
    {
     "data": {
      "image/png": "[encoded data removed]",
      "text/plain": [
       "<Figure size 432x288 with 1 Axes>"
      ]
     },
     "metadata": {
      "needs_background": "light"
     },
     "output_type": "display_data"
    }
   ],
   "source": [
    "# plot the values of beta 0, beta 1, beta 2 \n",
    "plt.plot(bhat_0, label=r'$\\hat \\beta_0$')\n",
    "plt.plot(bhat_1[1:], label=r'$\\hat \\beta_1$')\n",
    "plt.plot(bhat_2, label=r'$\\hat \\beta_2$')\n",
    "plt.title('Backfitting estimation for iterating 1000 times')\n",
    "plt.xlabel('Iteration')\n",
    "plt.ylabel(r'$\\hat \\beta$')\n",
    "plt.legend(loc='lower right')\n",
    "plt.show()"
   ]
  },
  {
   "cell_type": "markdown",
   "metadata": {},
   "source": [
    "#### f."
   ]
  },
  {
   "cell_type": "code",
   "execution_count": 7,
   "metadata": {},
   "outputs": [
    {
     "name": "stdout",
     "output_type": "stream",
     "text": [
      "                            OLS Regression Results                            \n",
      "==============================================================================\n",
      "Dep. Variable:                      y   R-squared:                       0.938\n",
      "Model:                            OLS   Adj. R-squared:                  0.937\n",
      "Method:                 Least Squares   F-statistic:                     737.9\n",
      "Date:                Sun, 24 Feb 2019   Prob (F-statistic):           2.09e-59\n",
      "Time:                        22:47:30   Log-Likelihood:                -143.78\n",
      "No. Observations:                 100   AIC:                             293.6\n",
      "Df Residuals:                      97   BIC:                             301.4\n",
      "Df Model:                           2                                         \n",
      "Covariance Type:            nonrobust                                         \n",
      "==============================================================================\n",
      "                 coef    std err          t      P>|t|      [0.025      0.975]\n",
      "------------------------------------------------------------------------------\n",
      "const          4.0695      0.104     39.046      0.000       3.863       4.276\n",
      "x1             3.4496      0.106     32.499      0.000       3.239       3.660\n",
      "x2             2.7064      0.111     24.315      0.000       2.486       2.927\n",
      "==============================================================================\n",
      "Omnibus:                        1.362   Durbin-Watson:                   1.921\n",
      "Prob(Omnibus):                  0.506   Jarque-Bera (JB):                1.143\n",
      "Skew:                           0.024   Prob(JB):                        0.565\n",
      "Kurtosis:                       2.479   Cond. No.                         1.20\n",
      "==============================================================================\n",
      "\n",
      "Warnings:\n",
      "[1] Standard Errors assume that the covariance matrix of the errors is correctly specified.\n"
     ]
    }
   ],
   "source": [
    "# using multiple linear regression (x1, x2) to predict Y\n",
    "x1= x1.reshape(-1,1)\n",
    "x2 = x2.reshape(-1,1)\n",
    "xs = np.concatenate((x1, x2), axis=1)\n",
    "model = sm.OLS(Y, sm.add_constant(xs)).fit()\n",
    "print(model.summary())"
   ]
  },
  {
   "cell_type": "code",
   "execution_count": 8,
   "metadata": {},
   "outputs": [],
   "source": [
    "# get the parameters from multiple linear regression model\n",
    "beta_hat_0 = model.params[0]\n",
    "beta_hat_1 = model.params[1]\n",
    "beta_hat_2 = model.params[2]"
   ]
  },
  {
   "cell_type": "code",
   "execution_count": 9,
   "metadata": {},
   "outputs": [
    {
     "data": {
      "image/png": "[encoded data removed]",
      "text/plain": [
       "<Figure size 432x288 with 1 Axes>"
      ]
     },
     "metadata": {
      "needs_background": "light"
     },
     "output_type": "display_data"
    }
   ],
   "source": [
    "# plot multiple linear regression coefficient estimates\n",
    "plt.plot(bhat_0, label=r'$\\hat \\beta_0$')\n",
    "plt.plot(bhat_1[1:], label=r'$\\hat \\beta_1$')\n",
    "plt.plot(bhat_2, label=r'$\\hat \\beta_2$')\n",
    "plt.axhline(y=beta_hat_0 ,color='k', linestyle=':')\n",
    "plt.axhline(y=beta_hat_1 ,color='k', linestyle=':')\n",
    "plt.axhline(y=beta_hat_2 ,color='k', linestyle=':')\n",
    "plt.title('Backfitting estimation for iterating 1000 times')\n",
    "plt.xlabel('Iteration')\n",
    "plt.ylabel(r'$\\hat \\beta$')\n",
    "plt.legend(loc='lower right')\n",
    "plt.show()"
   ]
  },
  {
   "cell_type": "markdown",
   "metadata": {},
   "source": [
    "#### g."
   ]
  },
  {
   "cell_type": "code",
   "execution_count": 10,
   "metadata": {},
   "outputs": [
    {
     "data": {
      "text/html": [
       "<div>\n",
       "<style scoped>\n",
       "    .dataframe tbody tr th:only-of-type {\n",
       "        vertical-align: middle;\n",
       "    }\n",
       "\n",
       "    .dataframe tbody tr th {\n",
       "        vertical-align: top;\n",
       "    }\n",
       "\n",
       "    .dataframe thead th {\n",
       "        text-align: right;\n",
       "    }\n",
       "</style>\n",
       "<table border=\"1\" class=\"dataframe\">\n",
       "  <thead>\n",
       "    <tr style=\"text-align: right;\">\n",
       "      <th></th>\n",
       "      <th>beta_0</th>\n",
       "      <th>beta_1</th>\n",
       "      <th>beta_2</th>\n",
       "    </tr>\n",
       "  </thead>\n",
       "  <tbody>\n",
       "    <tr>\n",
       "      <th>0</th>\n",
       "      <td>4.074061</td>\n",
       "      <td>3.427756</td>\n",
       "      <td>2.519968</td>\n",
       "    </tr>\n",
       "    <tr>\n",
       "      <th>1</th>\n",
       "      <td>4.069581</td>\n",
       "      <td>3.449237</td>\n",
       "      <td>2.703612</td>\n",
       "    </tr>\n",
       "    <tr>\n",
       "      <th>2</th>\n",
       "      <td>4.069514</td>\n",
       "      <td>3.449560</td>\n",
       "      <td>2.706375</td>\n",
       "    </tr>\n",
       "    <tr>\n",
       "      <th>3</th>\n",
       "      <td>4.069513</td>\n",
       "      <td>3.449565</td>\n",
       "      <td>2.706417</td>\n",
       "    </tr>\n",
       "    <tr>\n",
       "      <th>4</th>\n",
       "      <td>4.069513</td>\n",
       "      <td>3.449565</td>\n",
       "      <td>2.706417</td>\n",
       "    </tr>\n",
       "    <tr>\n",
       "      <th>5</th>\n",
       "      <td>4.069513</td>\n",
       "      <td>3.449565</td>\n",
       "      <td>2.706417</td>\n",
       "    </tr>\n",
       "    <tr>\n",
       "      <th>6</th>\n",
       "      <td>4.069513</td>\n",
       "      <td>3.449565</td>\n",
       "      <td>2.706417</td>\n",
       "    </tr>\n",
       "    <tr>\n",
       "      <th>7</th>\n",
       "      <td>4.069513</td>\n",
       "      <td>3.449565</td>\n",
       "      <td>2.706417</td>\n",
       "    </tr>\n",
       "    <tr>\n",
       "      <th>8</th>\n",
       "      <td>4.069513</td>\n",
       "      <td>3.449565</td>\n",
       "      <td>2.706417</td>\n",
       "    </tr>\n",
       "    <tr>\n",
       "      <th>9</th>\n",
       "      <td>4.069513</td>\n",
       "      <td>3.449565</td>\n",
       "      <td>2.706417</td>\n",
       "    </tr>\n",
       "  </tbody>\n",
       "</table>\n",
       "</div>"
      ],
      "text/plain": [
       "     beta_0    beta_1    beta_2\n",
       "0  4.074061  3.427756  2.519968\n",
       "1  4.069581  3.449237  2.703612\n",
       "2  4.069514  3.449560  2.706375\n",
       "3  4.069513  3.449565  2.706417\n",
       "4  4.069513  3.449565  2.706417\n",
       "5  4.069513  3.449565  2.706417\n",
       "6  4.069513  3.449565  2.706417\n",
       "7  4.069513  3.449565  2.706417\n",
       "8  4.069513  3.449565  2.706417\n",
       "9  4.069513  3.449565  2.706417"
      ]
     },
     "execution_count": 10,
     "metadata": {},
     "output_type": "execute_result"
    }
   ],
   "source": [
    "# create the beta dataframe to show beta 0, beta 1, beta 2\n",
    "beta_df = pd.DataFrame({'beta_0':bhat_0, 'beta_1':bhat_1[1:], 'beta_2':bhat_2})\n",
    "beta_df[:10]"
   ]
  },
  {
   "cell_type": "markdown",
   "metadata": {},
   "source": [
    "2 backfitting iterations seems to sufficient for this data set."
   ]
  },
  {
   "cell_type": "markdown",
   "metadata": {},
   "source": [
    "### Backfitting with large $p$"
   ]
  },
  {
   "cell_type": "code",
   "execution_count": 11,
   "metadata": {},
   "outputs": [],
   "source": [
    "# generate the data for toy example iwth p=100, n=1000 \n",
    "Xs = np.random.normal(0, 1, (1000, 100))\n",
    "beta = np.random.normal(0, 1, 100)\n",
    "epsilon = np.random.normal(0, 1, 1000)\n",
    "Y = np.dot(Xs, beta) + epsilon"
   ]
  },
  {
   "cell_type": "code",
   "execution_count": 12,
   "metadata": {},
   "outputs": [],
   "source": [
    "# calcualte the MSE for each number of iteration\n",
    "beta_lst = []\n",
    "mse_lst = []\n",
    "beta_lst.append(beta)\n",
    "for i in range(100):\n",
    "    beta_tmp = beta_lst[i]\n",
    "    for j in range(100):\n",
    "        a = Y - np.dot(Xs, beta_tmp) + beta_tmp[j] * Xs[:,j]\n",
    "        model = sm.OLS(a, sm.add_constant(Xs[:,j])).fit()\n",
    "        beta_tmp[j] = model.params[1]\n",
    "    beta_lst.append(beta_tmp)\n",
    "    mse_lst.append(mse(Y, np.dot(Xs, beta_tmp)))"
   ]
  },
  {
   "cell_type": "code",
   "execution_count": 13,
   "metadata": {},
   "outputs": [
    {
     "data": {
      "image/png": "[encoded data removed]",
      "text/plain": [
       "<Figure size 432x288 with 1 Axes>"
      ]
     },
     "metadata": {
      "needs_background": "light"
     },
     "output_type": "display_data"
    }
   ],
   "source": [
    "# plot the backfitting iteration with p=100, n=1000\n",
    "plt.plot(np.arange(100), mse_lst)\n",
    "plt.xlabel('Iteration')\n",
    "plt.ylabel('Training MSE')\n",
    "plt.show()"
   ]
  },
  {
   "cell_type": "code",
   "execution_count": 14,
   "metadata": {},
   "outputs": [
    {
     "data": {
      "image/png": "[encoded data removed]",
      "text/plain": [
       "<Figure size 432x288 with 1 Axes>"
      ]
     },
     "metadata": {
      "needs_background": "light"
     },
     "output_type": "display_data"
    }
   ],
   "source": [
    "# plot the first 10 backfitting iteration with p=100, n=1000\n",
    "plt.plot(np.arange(10), mse_lst[:10])\n",
    "plt.xlabel('Iteration')\n",
    "plt.ylabel('Training MSE')\n",
    "plt.show()"
   ]
  },
  {
   "cell_type": "markdown",
   "metadata": {},
   "source": [
    "From the above plot, it seems that 4 iterations is sufficient to lower the MSE of the multiple regression coefficient estimates. Even with a large number of predictors, backfitting estimation is pretty effificent."
   ]
  }
 ],
 "metadata": {
  "kernelspec": {
   "display_name": "Python 3",
   "language": "python",
   "name": "python3"
  },
  "language_info": {
   "codemirror_mode": {
    "name": "ipython",
    "version": 3
   },
   "file_extension": ".py",
   "mimetype": "text/x-python",
   "name": "python",
   "nbconvert_exporter": "python",
   "pygments_lexer": "ipython3",
   "version": "3.6.8"
  }
 },
 "nbformat": 4,
 "nbformat_minor": 2
}
